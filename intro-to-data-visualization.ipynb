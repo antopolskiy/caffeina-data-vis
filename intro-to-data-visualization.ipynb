{
 "cells": [
  {
   "cell_type": "markdown",
   "metadata": {},
   "source": [
    "# Follow along: \n",
    "## Go to <a href=\"http://bit.ly/caffeina-data-vis\">bit.ly/caffeina-data-vis</a> and click on `launch binder` badge"
   ]
  },
  {
   "cell_type": "markdown",
   "metadata": {},
   "source": [
    "# The speaker\n",
    "\n",
    "My name is Sergey Antopolskiy. I've studied biology at MSU, Moscow, and neuroscience at SISSA, Trieste. Currently I work as a senior research scientist / data scientist at Camlin Group R&D office in Parma (https://www.camlingroup.com/) where I work with biomedical data.\n",
    "\n",
    "Contacts: \n",
    "- https://github.com/antopolskiy\n",
    "- s.antopolsky@gmail.com"
   ]
  },
  {
   "cell_type": "markdown",
   "metadata": {},
   "source": [
    "# Intro to data visualization\n",
    "- Why we do data visualization?\n",
    "- Why choose Python over alternatives?\n",
    "- Main data visualization libraries in Python\n",
    "    - Matplotlib\n",
    "    - Seaborn\n",
    "    - Bokeh"
   ]
  },
  {
   "cell_type": "code",
   "execution_count": null,
   "metadata": {
    "collapsed": true
   },
   "outputs": [],
   "source": [
    "import pandas as pd\n",
    "import numpy as np\n",
    "\n",
    "%matplotlib inline\n",
    "import matplotlib as mpl\n",
    "import matplotlib.pyplot as plt\n",
    "import seaborn as sns"
   ]
  },
  {
   "cell_type": "code",
   "execution_count": null,
   "metadata": {
    "collapsed": true
   },
   "outputs": [],
   "source": [
    "mpl.rcParams['figure.dpi'] = 110"
   ]
  },
  {
   "cell_type": "markdown",
   "metadata": {},
   "source": [
    "# Data vis: from presentation to exploration"
   ]
  },
  {
   "cell_type": "markdown",
   "metadata": {},
   "source": [
    "## Presentation (\"Infographics\")\n",
    "- Made for non-experts\n",
    "- Relies on design ideas\n",
    "- Form as important as content\n",
    "\n",
    "https://informationisbeautiful.net/\n",
    "\n",
    "<img src=\"https://thumbnails-visually.netdna-ssl.com/infographics--the-benefits-of-their-use-online_565c628147e97.jpg\" width=600>\n",
    "\n",
    "More recently -- interactive visualizations, e.g.: http://informationisbeautiful.net/visualizations/snake-oil-scientific-evidence-for-nutritional-supplements-vizsweet/"
   ]
  },
  {
   "cell_type": "markdown",
   "metadata": {},
   "source": [
    "## Exploration\n",
    "- Content is more important than form\n",
    "- Must be quick to implement ideas (high level commands)\n",
    "- Prefferably interactive"
   ]
  },
  {
   "cell_type": "markdown",
   "metadata": {},
   "source": [
    "## Middle-ground\n",
    "\n",
    "Visualization tools for non-experts: https://www.gapminder.org/tools/\n",
    "\n",
    "Data-driven journalism: https://www.bloomberg.com/graphics/2015-dangerous-jobs/\n",
    "\n",
    "Difference of these tools with infographics: in the latter only a selected set of results is present to attract viewer's attention, while here the user is given full access to the data and is free to explore on her own."
   ]
  },
  {
   "cell_type": "markdown",
   "metadata": {},
   "source": [
    "# Data exploration\n",
    "\n",
    "Why not just use descriptive statistics: mean, standard deviation, statistical tests, etc?"
   ]
  },
  {
   "cell_type": "code",
   "execution_count": null,
   "metadata": {
    "scrolled": true
   },
   "outputs": [],
   "source": [
    "anscombe = pd.read_csv('data/anscombe.csv')[['y1','y2','y3','y4']]\n",
    "anscombe"
   ]
  },
  {
   "cell_type": "code",
   "execution_count": null,
   "metadata": {},
   "outputs": [],
   "source": [
    "anscombe.describe().loc[['mean','std']]"
   ]
  },
  {
   "cell_type": "markdown",
   "metadata": {},
   "source": [
    "We are visual animals, we notice visual patterns much more easily, e.g. from the recent Russian Presidential elections:\n",
    "\n",
    "<img src=\"img/russian-elections-graph.png\" width=600>\n",
    "\n",
    "Note the peaks at the multiples of 5. An image much like this one provoked the massive protests in 2011 after the parlamentary elections."
   ]
  },
  {
   "cell_type": "markdown",
   "metadata": {},
   "source": [
    "# Why in Python?\n",
    "\n",
    "- Free and open source\n",
    "- Complete programming language\n",
    "- Many visualization libraries suited for various purposes\n",
    "- Jupyter notebooks\n",
    "- Very large community of data scientists and ML engineers"
   ]
  },
  {
   "cell_type": "markdown",
   "metadata": {},
   "source": [
    "# Visualization tools in Python\n",
    "We need some data. As an example, let's consider a dataset of births in the US from 1969 to 1988:"
   ]
  },
  {
   "cell_type": "code",
   "execution_count": null,
   "metadata": {},
   "outputs": [],
   "source": [
    "births = pd.read_csv('data/births.csv').dropna()\n",
    "births = births.loc[births.day.notnull()]\n",
    "births = births.loc[births.births>1000]\n",
    "births['day'] = pd.to_numeric(births.day)\n",
    "births['month'] = pd.to_numeric(births.month)\n",
    "births['year'] = pd.to_numeric(births.year)\n",
    "print(births.shape)"
   ]
  },
  {
   "cell_type": "code",
   "execution_count": null,
   "metadata": {},
   "outputs": [],
   "source": [
    "births.head()"
   ]
  },
  {
   "cell_type": "code",
   "execution_count": null,
   "metadata": {},
   "outputs": [],
   "source": [
    "births.tail()"
   ]
  },
  {
   "cell_type": "markdown",
   "metadata": {},
   "source": [
    "Before we can visualize, we need to transform the data in some way. I do it here with `pandas` library, which deserves a talk of its own. I will not explain how I transform the data (i.e. the code), I will only show what I get in the end. If you're interested, take a look at this repo: https://github.com/jakevdp/PythonDataScienceHandbook"
   ]
  },
  {
   "cell_type": "markdown",
   "metadata": {},
   "source": [
    "## Matplotlib\n",
    "https://matplotlib.org/\n",
    "### Lineplots"
   ]
  },
  {
   "cell_type": "code",
   "execution_count": null,
   "metadata": {},
   "outputs": [],
   "source": [
    "births_per_year = births.groupby('year')['births'].mean()\n",
    "plt.plot(births_per_year)"
   ]
  },
  {
   "cell_type": "code",
   "execution_count": null,
   "metadata": {},
   "outputs": [],
   "source": [
    "plt.plot(births_per_year, color='darkgreen', marker='s', linestyle=':')"
   ]
  },
  {
   "cell_type": "code",
   "execution_count": null,
   "metadata": {
    "collapsed": true
   },
   "outputs": [],
   "source": [
    "births_per_year_m = births.groupby(['gender','year'])['births'].mean()['M']\n",
    "births_per_year_f = births.groupby(['gender','year'])['births'].mean()['F']"
   ]
  },
  {
   "cell_type": "code",
   "execution_count": null,
   "metadata": {},
   "outputs": [],
   "source": [
    "plt.plot(births_per_year_m, color='darkblue', marker='o', label='Boys')\n",
    "plt.plot(births_per_year_f, color='darkred', marker='o', label='Girls')\n",
    "plt.legend()"
   ]
  },
  {
   "cell_type": "markdown",
   "metadata": {},
   "source": [
    "### Histogram"
   ]
  },
  {
   "cell_type": "code",
   "execution_count": null,
   "metadata": {},
   "outputs": [],
   "source": [
    "plt.hist(births['births'],bins=100)\n",
    "plt.xlabel('Number of children born')\n",
    "plt.ylabel('Freq')\n",
    "plt.show()"
   ]
  },
  {
   "cell_type": "markdown",
   "metadata": {},
   "source": [
    "### Heatmap"
   ]
  },
  {
   "cell_type": "code",
   "execution_count": null,
   "metadata": {},
   "outputs": [],
   "source": [
    "births_year_month = births.pivot_table(index='year',columns='month',values='births',aggfunc=np.sum)\n",
    "\n",
    "plt.imshow(births_year_month, interpolation=None, cmap='Greens', aspect=0.6)\n",
    "plt.colorbar()\n",
    "\n",
    "plt.xticks(range(len(births_year_month.columns)), \n",
    "           births_year_month.columns)\n",
    "\n",
    "plt.yticks(range(len(births_year_month.index)), \n",
    "           births_year_month.index)\n",
    "\n",
    "plt.xlabel('Month')\n",
    "plt.ylabel('Year')\n",
    "plt.title('Total births for each month from {} to {}'\n",
    "          .format(str(births_year_month.index[0]),\n",
    "                  str(births_year_month.index[-1])));"
   ]
  },
  {
   "cell_type": "markdown",
   "metadata": {},
   "source": [
    "### Boxplots"
   ]
  },
  {
   "cell_type": "code",
   "execution_count": null,
   "metadata": {},
   "outputs": [],
   "source": [
    "births_month_day = births.pivot_table(columns='month',values='births',index='day').dropna()\n",
    "plt.boxplot(births_month_day.values);"
   ]
  },
  {
   "cell_type": "markdown",
   "metadata": {},
   "source": [
    "### Barplots"
   ]
  },
  {
   "cell_type": "code",
   "execution_count": null,
   "metadata": {},
   "outputs": [],
   "source": [
    "plt.bar(births_month_day.mean().index, births_month_day.mean())\n",
    "plt.errorbar(births_month_day.mean().index, \n",
    "             births_month_day.mean(), \n",
    "             yerr=births_month_day.std(),\n",
    "             linestyle='None',\n",
    "             color='k')"
   ]
  },
  {
   "cell_type": "code",
   "execution_count": null,
   "metadata": {},
   "outputs": [],
   "source": [
    "plt.bar(anscombe.mean().index, anscombe.mean())\n",
    "plt.errorbar(anscombe.mean().index, anscombe.mean(), yerr=anscombe.std(), \n",
    "             linestyle='None', color='k')"
   ]
  },
  {
   "cell_type": "code",
   "execution_count": null,
   "metadata": {},
   "outputs": [],
   "source": [
    "plt.boxplot(anscombe.values);"
   ]
  },
  {
   "cell_type": "markdown",
   "metadata": {},
   "source": [
    "### Interactivity"
   ]
  },
  {
   "cell_type": "code",
   "execution_count": null,
   "metadata": {
    "collapsed": true
   },
   "outputs": [],
   "source": [
    "%matplotlib notebook"
   ]
  },
  {
   "cell_type": "code",
   "execution_count": null,
   "metadata": {},
   "outputs": [],
   "source": [
    "plt.plot(births_per_year_m, color='darkblue', marker='o', label='Boys')\n",
    "plt.plot(births_per_year_f, color='darkred', marker='o', label='Girls')\n",
    "plt.legend()"
   ]
  },
  {
   "cell_type": "code",
   "execution_count": null,
   "metadata": {
    "collapsed": true
   },
   "outputs": [],
   "source": [
    "%matplotlib inline\n",
    "mpl.rcParams['figure.dpi'] = 110"
   ]
  },
  {
   "cell_type": "markdown",
   "metadata": {},
   "source": [
    "### Pros\n",
    "- Easy to use\n",
    "- Very flexible: can control each element\n",
    "\n",
    "### Cons\n",
    "- Too low-level for quick use\n",
    "- Need to transform data into appropriate shape\n",
    "- Limited interactivity"
   ]
  },
  {
   "cell_type": "markdown",
   "metadata": {},
   "source": [
    "# Tidy data plotting\n",
    "What is tidy data?\n",
    "\n",
    "Tidy data is a standard way of mapping the meaning of a dataset to its structure. A dataset is\n",
    "messy or tidy depending on how rows, columns and tables are matched up with observations,\n",
    "variables and types. Core principles of tidy data are simple:\n",
    "1. Each **variable** forms a **column**\n",
    "2. Each **observation** forms a **row**\n",
    "3. Each **type of observational unit** forms a **table**\n",
    "\n",
    "<img src=\"img/tidy_data_ex.png\">"
   ]
  },
  {
   "cell_type": "markdown",
   "metadata": {},
   "source": [
    "# Example"
   ]
  },
  {
   "cell_type": "code",
   "execution_count": null,
   "metadata": {},
   "outputs": [],
   "source": [
    "untidy = pd.DataFrame({'treatment_a':[9, 16, 3],'treatment_b':[2,11,1]}, \n",
    "                      index=['John Smith', 'Jane Doe','Mary Johnson'])\n",
    "untidy"
   ]
  },
  {
   "cell_type": "code",
   "execution_count": null,
   "metadata": {},
   "outputs": [],
   "source": [
    "untidy.index.name = 'person'\n",
    "untidy.columns.name = 'treatment'\n",
    "tidy = pd.melt(untidy.reset_index(),id_vars=['person'],value_name='IgG_level')\n",
    "tidy['treatment'].replace({'treatment_a':'a','treatment_b':'b'}, inplace=True)\n",
    "tidy"
   ]
  },
  {
   "cell_type": "markdown",
   "metadata": {},
   "source": [
    "## Seaborn: tidy plotting\n",
    "https://seaborn.pydata.org/index.html"
   ]
  },
  {
   "cell_type": "code",
   "execution_count": null,
   "metadata": {},
   "outputs": [],
   "source": [
    "sns.boxplot(data=tidy, x='treatment', y='IgG_level', width=0.3)"
   ]
  },
  {
   "cell_type": "code",
   "execution_count": null,
   "metadata": {},
   "outputs": [],
   "source": [
    "sns.boxplot(data=births, x='month', y='births', palette='Blues')"
   ]
  },
  {
   "cell_type": "code",
   "execution_count": null,
   "metadata": {},
   "outputs": [],
   "source": [
    "sns.boxplot(data=births, x='year', y='births', palette='Greens')\n",
    "plt.xticks(rotation='vertical')\n",
    "plt.show()"
   ]
  },
  {
   "cell_type": "code",
   "execution_count": null,
   "metadata": {},
   "outputs": [],
   "source": [
    "sns.stripplot(data=births.loc[births.day==1], x='gender', y='births', jitter=0.1)"
   ]
  },
  {
   "cell_type": "code",
   "execution_count": null,
   "metadata": {},
   "outputs": [],
   "source": [
    "sns.catplot(data=births, x='year', y='births', kind='point', height=5, aspect=1.2)\n",
    "plt.xticks(rotation='vertical');"
   ]
  },
  {
   "cell_type": "code",
   "execution_count": null,
   "metadata": {},
   "outputs": [],
   "source": [
    "sns.catplot(data=births, x='year', y='births', kind='point', hue='gender', height=5, aspect=1.2)\n",
    "plt.xticks(rotation='vertical');"
   ]
  },
  {
   "cell_type": "code",
   "execution_count": null,
   "metadata": {},
   "outputs": [],
   "source": [
    "sns.catplot(data=births.loc[births.day<=3], x='month', y='births', \n",
    "               kind='point', col='gender', hue='day');"
   ]
  },
  {
   "cell_type": "markdown",
   "metadata": {
    "collapsed": true
   },
   "source": [
    "### Pros\n",
    "- Given a tidy dataset, very easy to use\n",
    "- Automatic labeling\n",
    "- Versitile (https://seaborn.pydata.org/examples/index.html)\n",
    "- Built on top of `matplotlib` -> can be modified with low-level `matplotlib` functions\n",
    "\n",
    "### Cons\n",
    "- Static (with very limited interactivity)"
   ]
  },
  {
   "cell_type": "markdown",
   "metadata": {},
   "source": [
    "## Bokeh: interactive plotting\n",
    "https://bokeh.pydata.org/en/latest/"
   ]
  },
  {
   "cell_type": "code",
   "execution_count": null,
   "metadata": {},
   "outputs": [],
   "source": [
    "from bokeh.plotting import figure, show, output_notebook\n",
    "output_notebook()"
   ]
  },
  {
   "cell_type": "code",
   "execution_count": null,
   "metadata": {},
   "outputs": [],
   "source": [
    "from bokeh.sampledata.iris import flowers\n",
    "\n",
    "colormap = {'setosa': 'red', 'versicolor': 'green', 'virginica': 'blue'}\n",
    "colors = [colormap[x] for x in flowers['species']]\n",
    "\n",
    "p = figure(title = \"Iris Morphology\")\n",
    "p.xaxis.axis_label = 'Petal Length'\n",
    "p.yaxis.axis_label = 'Petal Width'\n",
    "\n",
    "p.circle(flowers[\"petal_length\"], flowers[\"petal_width\"],\n",
    "         color=colors, fill_alpha=0.2, size=10)\n",
    "show(p)"
   ]
  },
  {
   "cell_type": "code",
   "execution_count": null,
   "metadata": {},
   "outputs": [],
   "source": [
    "from bokeh.layouts import gridplot\n",
    "from bokeh.models import ColumnDataSource\n",
    "\n",
    "x = list(range(-20, 21))\n",
    "y0, y1 = [abs(xx) for xx in x], [xx**2 for xx in x]\n",
    "\n",
    "# create a column data source for the plots to share\n",
    "source = ColumnDataSource(data=dict(x=x, y0=y0, y1=y1))\n",
    "\n",
    "TOOLS = \"box_select,lasso_select,help\"\n",
    "\n",
    "# create a new plot and add a renderer\n",
    "left = figure(tools=TOOLS, width=300, height=300)\n",
    "left.circle('x', 'y0', source=source)\n",
    "\n",
    "# create another new plot and add a renderer\n",
    "right = figure(tools=TOOLS, width=300, height=300)\n",
    "right.circle('x', 'y1', source=source)\n",
    "\n",
    "p = gridplot([[left, right]])\n",
    "\n",
    "show(p)"
   ]
  },
  {
   "cell_type": "code",
   "execution_count": null,
   "metadata": {},
   "outputs": [],
   "source": [
    "from bokeh.plotting import figure\n",
    "from bokeh.palettes import Spectral5\n",
    "from bokeh.sampledata.autompg import autompg_clean as df\n",
    "from bokeh.transform import factor_cmap\n",
    "\n",
    "df.cyl = df.cyl.astype(str)\n",
    "df.yr = df.yr.astype(str)\n",
    "\n",
    "group = df.groupby(('cyl', 'mfr'))\n",
    "\n",
    "index_cmap = factor_cmap('cyl_mfr', palette=Spectral5, factors=sorted(df.cyl.unique()), end=1)\n",
    "\n",
    "p = figure(plot_width=800, plot_height=300, title=\"Mean MPG by # Cylinders and Manufacturer\",\n",
    "           x_range=group, toolbar_location=None, tooltips=[(\"MPG\", \"@mpg_mean\"), (\"Cyl, Mfr\", \"@cyl_mfr\")])\n",
    "\n",
    "p.vbar(x='cyl_mfr', top='mpg_mean', width=1, source=group,\n",
    "       line_color=\"white\", fill_color=index_cmap, )\n",
    "\n",
    "p.y_range.start = 0\n",
    "p.x_range.range_padding = 0.05\n",
    "p.xgrid.grid_line_color = None\n",
    "p.xaxis.axis_label = \"Manufacturer grouped by # Cylinders\"\n",
    "p.xaxis.major_label_orientation = 1.2\n",
    "p.outline_line_color = None\n",
    "\n",
    "show(p)"
   ]
  },
  {
   "cell_type": "code",
   "execution_count": null,
   "metadata": {},
   "outputs": [],
   "source": [
    "from bokeh.models import HoverTool\n",
    "from bokeh.plotting import figure\n",
    "\n",
    "n = 500\n",
    "x = 2 + 2*np.random.standard_normal(n)\n",
    "y = 2 + 2*np.random.standard_normal(n)\n",
    "\n",
    "p = figure(title=\"Hexbin for 500 points\", match_aspect=True,\n",
    "           tools=\"wheel_zoom,reset\", background_fill_color='#440154')\n",
    "p.grid.visible = False\n",
    "\n",
    "r, bins = p.hexbin(x, y, size=0.5, hover_color=\"pink\", hover_alpha=0.8)\n",
    "\n",
    "p.circle(x, y, color=\"white\", size=1)\n",
    "\n",
    "p.add_tools(HoverTool(\n",
    "    tooltips=[(\"count\", \"@c\"), (\"(q,r)\", \"(@q, @r)\")],\n",
    "    mode=\"mouse\", point_policy=\"follow_mouse\", renderers=[r]\n",
    "))\n",
    "\n",
    "show(p)"
   ]
  },
  {
   "cell_type": "markdown",
   "metadata": {},
   "source": [
    "# Bokeh apps\n",
    "\n",
    "https://demo.bokehplots.com/apps/movies"
   ]
  },
  {
   "cell_type": "markdown",
   "metadata": {},
   "source": [
    "### Pros\n",
    "- Full interactivity in the browser, powered by JavaScript\n",
    "- Can create apps to explore the datasets\n",
    "\n",
    "### Cons\n",
    "- Has its own syntax, which you need to learn from scratch (doesn't rely on `matplotlib`)\n",
    "- Interactivity can be tideous to implement (sometimes need to you JavaScript snippets)\n",
    "- Not highly optimized for very large scale projects: need to work around\n",
    "\n",
    "Also check `mplD3` library, which allows to create JS.D3 graphics using `matplotlib`: http://mpld3.github.io/"
   ]
  },
  {
   "cell_type": "markdown",
   "metadata": {},
   "source": [
    "# Conclusions\n",
    "\n",
    "You have a large variety of data visualization tools in Python, especially for data exploration purposes. \n",
    "\n",
    "- If you've got a tidy dataset (or know how to tidy an existing messy dataset) -- use `seaborn`. \n",
    "- If you need to tweak settings, use `matplotlib` in addition. \n",
    "- If you want interactivity and web integration -- use `bokeh`."
   ]
  },
  {
   "cell_type": "markdown",
   "metadata": {},
   "source": [
    "# Further resources\n",
    "\n",
    "Python Data Science Handbook: https://jakevdp.github.io/PythonDataScienceHandbook/\n",
    "\n",
    "Notebooks on data visualization: https://github.com/jupyter/jupyter/wiki/A-gallery-of-interesting-Jupyter-Notebooks#data-visualization-and-plotting"
   ]
  }
 ],
 "metadata": {
  "kernelspec": {
   "display_name": "Python 3.5",
   "language": "python",
   "name": "py35"
  },
  "language_info": {
   "codemirror_mode": {
    "name": "ipython",
    "version": 3
   },
   "file_extension": ".py",
   "mimetype": "text/x-python",
   "name": "python",
   "nbconvert_exporter": "python",
   "pygments_lexer": "ipython3",
   "version": "3.5.5"
  }
 },
 "nbformat": 4,
 "nbformat_minor": 2
}
